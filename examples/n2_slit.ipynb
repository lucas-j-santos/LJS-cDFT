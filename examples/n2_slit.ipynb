{
 "cells": [
  {
   "cell_type": "code",
   "execution_count": null,
   "metadata": {},
   "outputs": [],
   "source": [
    "import torch \n",
    "import numpy as np\n",
    "import pandas as pd\n",
    "import seaborn as sns\n",
    "import matplotlib.pyplot as plt\n",
    "from cdft.dft1d import dft_core\n",
    "from cdft.lj_eos import lj_eos\n",
    "\n",
    "device = torch.device('cpu')\n",
    "\n",
    "pi = np.pi\n",
    "kB = 1.380649e-23\n",
    "NA = 6.02214076e23\n",
    "\n",
    "plt.rcParams.update({'text.usetex':True, \n",
    "'font.family':'serif', \n",
    "'font.size':18, \n",
    "})"
   ]
  },
  {
   "cell_type": "code",
   "execution_count": null,
   "metadata": {},
   "outputs": [],
   "source": [
    "sigma = 3.849\n",
    "epsilon = 94.45\n",
    "parameters = {'sigma':sigma, 'epsilon':epsilon}"
   ]
  },
  {
   "cell_type": "code",
   "execution_count": null,
   "metadata": {},
   "outputs": [],
   "source": [
    "T = 77.4\n",
    "eos = lj_eos(parameters, T)\n",
    "P = torch.hstack((torch.arange(1e-7,1e-6,0.5e-7,dtype=torch.float64),torch.arange(1e-6,1e-5,0.5e-6,dtype=torch.float64),\n",
    "                 torch.arange(1e-5,1e-4,0.5e-5,dtype=torch.float64),torch.arange(1e-4,1e-3,0.5e-4,dtype=torch.float64),\n",
    "                 torch.arange(1e-3,1e-2,0.5e-3,dtype=torch.float64), torch.arange(1e-2,1e-1,0.5e-2,dtype=torch.float64),\n",
    "                 torch.arange(0.1,0.2,0.01,dtype=torch.float64), torch.arange(0.2,1.0,0.02,dtype=torch.float64)))*1e5\n",
    "\n",
    "bulk_density = torch.empty_like(P)\n",
    "\n",
    "bulk_density[0] = eos.density(P[0],'vap')\n",
    "for i in range(1,len(P)):\n",
    "    bulk_density[i] = eos.density(P[i],bulk_density[i-1])"
   ]
  },
  {
   "cell_type": "code",
   "execution_count": null,
   "metadata": {},
   "outputs": [],
   "source": [
    "nist = pd.read_csv('data/N2_77K_NIST.txt', sep='\\s+', skiprows=1, \n",
    "                    usecols=[1,2], names=['Pressure (bar)','Density (mol/m3)'])\n",
    "\n",
    "colors = sns.color_palette(\"mako\")\n",
    "\n",
    "plt.plot(P*1e-5, bulk_density*1e30/(NA), '-', color=colors[0], linewidth=2.0, label='LJ-EoS')\n",
    "plt.plot(nist['Pressure (bar)'],nist['Density (mol/m3)'], '--', color=colors[3], linewidth=2.0, label='NIST')\n",
    "plt.xlabel(r'pressure (bar)', fontsize=18)\n",
    "plt.ylabel(r'density (mol m$^{-3}$)', fontsize=18)\n",
    "plt.xlim([0.0,None])\n",
    "plt.ylim([0.0,None])\n",
    "plt.minorticks_on()\n",
    "plt.tick_params(direction='in',right=True, top=True)\n",
    "plt.tick_params(labelsize=18)\n",
    "plt.tick_params(labelbottom=True, labeltop=False, labelright=False, labelleft=True)\n",
    "# xticks = np.arange(0, 1e4,10)\n",
    "# yticks = np.arange(0,16.1,4)\n",
    "plt.tick_params(direction='in',which='minor', length=4, bottom=True, top=True, left=True, right=True)\n",
    "plt.tick_params(direction='in',which='major', length=7, bottom=True, top=True, left=True, right=True)\n",
    "# plt.xticks(xticks)\n",
    "# plt.yticks(yticks)\n",
    "plt.legend(fontsize=16, frameon=True, edgecolor='k')"
   ]
  },
  {
   "cell_type": "code",
   "execution_count": null,
   "metadata": {},
   "outputs": [],
   "source": [
    "H = 20.0\n",
    "system_size = H+10\n",
    "points = int(system_size*100)\n",
    "\n",
    "def steele(z,sigma,epsilon):\n",
    "    rhos = 0.114\n",
    "    Delta = 3.35\n",
    "    return 2.0*pi*rhos*epsilon*sigma**2*Delta*(0.40*(sigma/z)**10-(sigma/z)**4-sigma**4/(3.0*Delta*(z+0.610*Delta)**3))\n",
    "\n",
    "sigma_s = 3.40\n",
    "epsilon_s = 28.0\n",
    "sigma_is = 0.5*(sigma+sigma_s) \n",
    "epsilon_is = np.sqrt(epsilon*epsilon_s)\n",
    "\n",
    "dft = dft_core(parameters, T, system_size, points, device)\n",
    "Vext = torch.zeros_like(dft.z)\n",
    "kin = 500\n",
    "kout = int(system_size*100-kin)\n",
    "Vext[0:kin] = np.inf\n",
    "Vext[kout:] = np.inf\n",
    "Vext[kin:kout] = steele(dft.z[kin:kout]-5, sigma_is, epsilon_is)+steele(H-(dft.z[kin:kout]-5), sigma_is, epsilon_is)"
   ]
  },
  {
   "cell_type": "code",
   "execution_count": null,
   "metadata": {},
   "outputs": [],
   "source": [
    "dft.initial_condition(bulk_density[0],Vext)\n",
    "Nads = torch.empty_like(P)\n",
    "Ndes = torch.empty_like(P) \n",
    "Omega_ads = torch.empty_like(P)\n",
    "Omega_des = torch.empty_like(P)\n",
    "\n",
    "for i in range(len(P)):\n",
    "    dft.equilibrium_density_profile(bulk_density[i],fmt='ASWB',solver='anderson',\n",
    "                                   anderson_mmax=10,anderson_damping=0.01,tol=1e-6,max_it=10000,logoutput=False)\n",
    "    Nads[i] = dft.total_molecules \n",
    "    Omega_ads[i] = dft.Omega\n",
    "    print(dft.it,dft.error.numpy(),1e-5*P[i].numpy(),Nads[i].numpy())   \n",
    "    if np.isnan(dft.error.numpy()): break"
   ]
  },
  {
   "cell_type": "code",
   "execution_count": null,
   "metadata": {},
   "outputs": [],
   "source": [
    "Ndes[-1] = dft.total_molecules\n",
    "Omega_des[-1] = dft.Omega\n",
    "for i in range(len(P)-2,-1,-1):\n",
    "    dft.equilibrium_density_profile(bulk_density[i],fmt='ASWB',solver='fire',\n",
    "                                    alpha0=0.1,dt=0.01,tol=1e-6,logoutput=False)\n",
    "    Ndes[i] = dft.total_molecules \n",
    "    Omega_des[i] = dft.Omega\n",
    "    print(dft.it,dft.error.numpy(),1e-5*P[i].numpy(),Ndes[i].numpy())   \n",
    "    if np.isnan(dft.error.numpy()): break"
   ]
  },
  {
   "cell_type": "code",
   "execution_count": null,
   "metadata": {},
   "outputs": [],
   "source": [
    "Neq = np.copy(Nads)\n",
    "Omega_eq = np.copy(Omega_ads)\n",
    "for i in range(len(P)):\n",
    "    if Omega_des[i] < Omega_ads[i]:\n",
    "        Omega_eq[i] = Omega_des[i]\n",
    "        Neq[i] = Ndes[i]"
   ]
  },
  {
   "cell_type": "code",
   "execution_count": null,
   "metadata": {},
   "outputs": [],
   "source": [
    "colors = sns.color_palette(\"mako\")\n",
    "\n",
    "plt.plot(P*1e-5, (1e23/NA)*Nads, '-', color=colors[2], linewidth=2.0, label='cDFT adsorption')\n",
    "plt.plot(P*1e-5, (1e23/NA)*Ndes, '--', color=colors[2], linewidth=2.0, label='cDFT desorption')\n",
    "plt.plot(P*1e-5, (1e23/NA)*Neq, ':', color=colors[2], linewidth=2.0, label='cDFT equilibrium')\n",
    "plt.xlabel(r'$P$ (bar)', fontsize=18)\n",
    "plt.ylabel(r'Adsorption (mmol/m$^2$)', fontsize=18)\n",
    "plt.xlim([-0.01,0.2])\n",
    "# plt.ylim([0.0,2000])\n",
    "plt.minorticks_on()\n",
    "plt.tick_params(direction='in',right=True, top=True)\n",
    "plt.tick_params(labelsize=18)\n",
    "plt.tick_params(labelbottom=True, labeltop=False, labelright=False, labelleft=True)\n",
    "plt.tick_params(direction='in',which='minor', length=4, bottom=True, top=True, left=True, right=True)\n",
    "plt.tick_params(direction='in',which='major', length=7, bottom=True, top=True, left=True, right=True)\n",
    "plt.legend(fontsize=16, frameon=True, edgecolor='k')"
   ]
  },
  {
   "cell_type": "code",
   "execution_count": null,
   "metadata": {},
   "outputs": [],
   "source": [
    "colors = sns.color_palette(\"mako\")\n",
    "\n",
    "plt.plot(P*1e-5, Omega_ads, '-', color=colors[2], linewidth=2.0, label='adsorption')\n",
    "plt.plot(P*1e-5, Omega_des, '--', color=colors[2], linewidth=2.0, label='desorption')\n",
    "plt.xlabel(r'$P$ (bar)', fontsize=18)\n",
    "plt.ylabel(r'$\\Omega/k_B T$', fontsize=18)\n",
    "plt.xlim([-0.01,0.2])\n",
    "# plt.ylim([0.0,2000])\n",
    "plt.minorticks_on()\n",
    "plt.tick_params(direction='in',right=True, top=True)\n",
    "plt.tick_params(labelsize=18)\n",
    "plt.tick_params(labelbottom=True, labeltop=False, labelright=False, labelleft=True)\n",
    "plt.tick_params(direction='in',which='minor', length=4, bottom=True, top=True, left=True, right=True)\n",
    "plt.tick_params(direction='in',which='major', length=7, bottom=True, top=True, left=True, right=True)\n",
    "plt.legend(fontsize=16, frameon=True, edgecolor='k')"
   ]
  }
 ],
 "metadata": {
  "kernelspec": {
   "display_name": "torch",
   "language": "python",
   "name": "python3"
  },
  "language_info": {
   "codemirror_mode": {
    "name": "ipython",
    "version": 3
   },
   "file_extension": ".py",
   "mimetype": "text/x-python",
   "name": "python",
   "nbconvert_exporter": "python",
   "pygments_lexer": "ipython3",
   "version": "3.12.3"
  }
 },
 "nbformat": 4,
 "nbformat_minor": 2
}
