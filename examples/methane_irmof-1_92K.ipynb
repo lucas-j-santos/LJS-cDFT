{
 "cells": [
  {
   "cell_type": "code",
   "execution_count": null,
   "metadata": {},
   "outputs": [],
   "source": [
    "import torch \n",
    "import numpy as np\n",
    "import pandas as pd\n",
    "import matplotlib.pyplot as plt\n",
    "from pymatgen.core import Structure\n",
    "from cdft.dft3d import dft_core\n",
    "from cdft.lj_eos import lj_eos\n",
    "\n",
    "torch.set_default_dtype(torch.float64)\n",
    "device = torch.device('cuda')"
   ]
  },
  {
   "cell_type": "code",
   "execution_count": null,
   "metadata": {},
   "outputs": [],
   "source": [
    "sigma = 3.73\n",
    "epsilon = 148.0\n",
    "parameters = {'sigma':sigma, 'epsilon':epsilon}"
   ]
  },
  {
   "cell_type": "code",
   "execution_count": null,
   "metadata": {},
   "outputs": [],
   "source": [
    "structure = Structure.from_file('structures/IRMOF-1.cif')\n",
    "print('formula:        ', structure.formula)\n",
    "print('num_sites:      ', structure.num_sites)\n",
    "print('lattice_lengths:', structure.lattice.lengths)"
   ]
  },
  {
   "cell_type": "code",
   "execution_count": null,
   "metadata": {},
   "outputs": [],
   "source": [
    "T = 92.0\n",
    "system_size = np.array([l for l in structure.lattice.lengths])\n",
    "points = np.array([64, 64, 64])\n",
    "dft = dft_core(parameters=parameters, temperature=T, system_size=system_size, angles=None, points=points, device=device)\n",
    "dft.cell_size"
   ]
  },
  {
   "cell_type": "code",
   "execution_count": null,
   "metadata": {},
   "outputs": [],
   "source": [
    "forcefield = pd.DataFrame()\n",
    "forcefield['type'] = ['C','H','O','Zn']\n",
    "forcefield['sigma'] = np.array([3.47299, 2.84642, 3.03315, 2.4615])\n",
    "forcefield['epsilon'] = np.array([47.8562, 7.64893, 48.1581, 62.3992])\n",
    "\n",
    "def lj_potential(r,sigma,epsilon):\n",
    "    return 4.0*epsilon*((sigma/r)**12-(sigma/r)**6) \n",
    "\n",
    "rc = 12.9\n",
    "\n",
    "Vext = torch.zeros_like(dft.X)\n",
    "U = torch.zeros_like(dft.X)\n",
    "for k, site in enumerate(structure):\n",
    "    sigmas = float(forcefield['sigma'][forcefield['type']==site.species_string].values[0])\n",
    "    epsilons = float(forcefield['epsilon'][forcefield['type']==site.species_string].values[0])\n",
    "    sigmasf = 0.5*(sigma+sigmas) \n",
    "    epsilonsf = np.sqrt(epsilon*epsilons)\n",
    "    rx = dft.X-structure.cart_coords[k,0] \n",
    "    ry = dft.Y-structure.cart_coords[k,1] \n",
    "    rz = dft.Z-structure.cart_coords[k,2] \n",
    "    rx -= system_size[0]*(rx/system_size[0]).round()\n",
    "    ry -= system_size[1]*(ry/system_size[1]).round()\n",
    "    rz -= system_size[2]*(rz/system_size[2]).round()\n",
    "    r = torch.sqrt(rx**2+ry**2+rz**2)\n",
    "    U = lj_potential(r,sigmasf,epsilonsf)\n",
    "    U[r==0] = np.inf\n",
    "    U[r>rc] = 0.0\n",
    "    Vext += U"
   ]
  },
  {
   "cell_type": "code",
   "execution_count": null,
   "metadata": {},
   "outputs": [],
   "source": [
    "plt.rcParams.update({'text.usetex':True, \n",
    "'font.family':'serif', \n",
    "'font.size':18, \n",
    "# 'axes.linewidth':1.1, \n",
    "'lines.linewidth':1.6,\n",
    "'legend.fontsize': 18,\n",
    "'legend.frameon':False\n",
    "#'figure.figsize':(7.9, 6.1)\n",
    "})\n",
    "\n",
    "\n",
    "plt.figure()\n",
    "c=plt.pcolormesh(dft.X[:,:,points[0]//2].cpu(),dft.Y[:,:,points[1]//2].cpu(),Vext[:,:,points[2]//2].cpu()/T,vmax=50.0,cmap='jet')\n",
    "plt.colorbar(label=r'$V_{\\mathrm{ext}}/k_B T$')\n",
    "plt.xlabel(r'$x$ (\\AA{})')\n",
    "plt.ylabel(r'$y$ (\\AA{})')"
   ]
  },
  {
   "cell_type": "code",
   "execution_count": null,
   "metadata": {},
   "outputs": [],
   "source": [
    "P0 = 0.013801e6\n",
    "P = torch.hstack((torch.arange(1e-5,1e-4,0.5e-5),torch.arange(1e-4,1e-3,0.5e-4),\n",
    "                 torch.arange(1e-3,1e-2,1e-4), torch.arange(1e-2,1e-1,0.5e-2),\n",
    "                 torch.arange(0.1,0.2,0.01), torch.arange(0.2,1.0,0.02)))*P0\n",
    "bulk_density = torch.empty_like(P)\n",
    "\n",
    "eos = lj_eos(parameters, T)\n",
    "bulk_density[0] = eos.density(P[0],'vap')\n",
    "for i in range(1,len(P)):\n",
    "    bulk_density[i] = eos.density(P[i],bulk_density[i-1])"
   ]
  },
  {
   "cell_type": "code",
   "execution_count": null,
   "metadata": {},
   "outputs": [],
   "source": [
    "dft.initial_condition(bulk_density[0],Vext,model='ideal')"
   ]
  },
  {
   "cell_type": "code",
   "execution_count": null,
   "metadata": {},
   "outputs": [],
   "source": [
    "Nads = torch.zeros(len(P))\n",
    "for i in range(len(P)):\n",
    "    dft.equilibrium_density_profile(bulk_density[i],fmt='ASWB',solver='anderson',\n",
    "                                    anderson_damping=0.01,anderson_mmax=10,tol=1e-8,max_it=1001,logoutput=False)\n",
    "    Nads[i] = dft.total_molecules\n",
    "    print(dft.it,dft.error.numpy(),P[i].numpy()/P0,Nads[i].numpy())\n",
    "    if torch.isnan(dft.error) or dft.it > 1000: break\n",
    "    else:\n",
    "        torch.save(dft.rho.cpu(), f'rho.pt')\n",
    "        torch.save((P,Nads), f'adsorption.pt')"
   ]
  },
  {
   "cell_type": "code",
   "execution_count": null,
   "metadata": {},
   "outputs": [],
   "source": [
    "dft.rho = torch.load(f'rho.pt').to(device)\n",
    "P, Nads = torch.load(f'adsorption.pt')\n",
    "last = i"
   ]
  },
  {
   "cell_type": "code",
   "execution_count": null,
   "metadata": {},
   "outputs": [],
   "source": [
    "for i in range(last,len(P)):\n",
    "    dft.equilibrium_density_profile(bulk_density[i],fmt='ASWB',solver='fire',\n",
    "                                    alpha0=0.2,dt=0.002,tol=1e-8,max_it=2001,logoutput=True)\n",
    "    Nads[i] = dft.total_molecules\n",
    "    print(dft.it,dft.error.numpy(),P[i].numpy()/P0,Nads[i].numpy())\n",
    "    if torch.isnan(dft.error) or dft.it > 2000: break\n",
    "    else:\n",
    "        torch.save(dft.rho.cpu(), f'rho.pt')\n",
    "        torch.save((P,Nads), f'adsorption.pt')"
   ]
  },
  {
   "cell_type": "code",
   "execution_count": null,
   "metadata": {},
   "outputs": [],
   "source": [
    "import seaborn as sns\n",
    "\n",
    "colors = sns.color_palette(\"mako\")\n",
    "\n",
    "plt.rcParams.update({'text.usetex':True, \n",
    "'font.family':'serif',  \n",
    "#'figure.figsize':(7.9, 6.1)\n",
    "})\n",
    "\n",
    "plt.plot(P, Nads, '-', color=colors[3], linewidth=2.0, label='cDFT')\n",
    "plt.xlabel(r'$P$ (bar)', fontsize=18)\n",
    "plt.ylabel(r'$N$ (molecules/u.c.)', fontsize=18)\n",
    "plt.xlim([0.0,100.])\n",
    "# plt.ylim([None,0.004])\n",
    "plt.minorticks_on()\n",
    "plt.tick_params(direction='in',right=True, top=True)\n",
    "plt.tick_params(labelsize=18)\n",
    "plt.tick_params(labelbottom=True, labeltop=False, labelright=False, labelleft=True)\n",
    "plt.tick_params(direction='in',which='minor', length=4, bottom=True, top=True, left=True, right=True)\n",
    "plt.tick_params(direction='in',which='major', length=8, bottom=True, top=True, left=True, right=True)\n",
    "plt.legend(fontsize=16, frameon=True, edgecolor='k')\n",
    "# plt.savefig('figures/isotherm_methane.pdf', bbox_inches='tight')"
   ]
  },
  {
   "cell_type": "code",
   "execution_count": null,
   "metadata": {},
   "outputs": [],
   "source": [
    "plt.figure()\n",
    "c=plt.pcolormesh(dft.X[:,:,points[0]//2].cpu(),dft.Y[:,:,points[1]//2].cpu(),dft.rho[:,:,points[2]//2].cpu()/dft.rhob.cpu(),cmap='jet',shading='gouraud')\n",
    "plt.colorbar(c, label=r'$\\rho(x,y)/ \\rho_b$')\n",
    "plt.xlabel(r'$x$ (\\AA{})')\n",
    "plt.ylabel(r'$y$ (\\AA{})')"
   ]
  }
 ],
 "metadata": {
  "kernelspec": {
   "display_name": "torch",
   "language": "python",
   "name": "python3"
  },
  "language_info": {
   "codemirror_mode": {
    "name": "ipython",
    "version": 3
   },
   "file_extension": ".py",
   "mimetype": "text/x-python",
   "name": "python",
   "nbconvert_exporter": "python",
   "pygments_lexer": "ipython3",
   "version": "3.13.3"
  },
  "orig_nbformat": 4
 },
 "nbformat": 4,
 "nbformat_minor": 2
}
