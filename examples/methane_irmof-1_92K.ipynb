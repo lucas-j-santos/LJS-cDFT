{
 "cells": [
  {
   "cell_type": "code",
   "execution_count": 1,
   "metadata": {},
   "outputs": [],
   "source": [
    "import torch \n",
    "import numpy as np\n",
    "import pandas as pd\n",
    "import matplotlib.pyplot as plt\n",
    "from pymatgen.core import Structure\n",
    "from cdft.dft3d import dft_core\n",
    "from cdft.lj_eos import lj_eos\n",
    "\n",
    "torch.set_default_dtype(torch.float64)\n",
    "device = torch.device('cuda')"
   ]
  },
  {
   "cell_type": "code",
   "execution_count": 2,
   "metadata": {},
   "outputs": [],
   "source": [
    "sigma = 3.73\n",
    "epsilon = 148.0\n",
    "parameters = {'sigma':sigma, 'epsilon':epsilon}"
   ]
  },
  {
   "cell_type": "code",
   "execution_count": 3,
   "metadata": {},
   "outputs": [
    {
     "name": "stdout",
     "output_type": "stream",
     "text": [
      "formula:         Zn32 H96 C192 O104\n",
      "num_sites:       424\n",
      "lattice_lengths: (25.832, 25.832, 25.832)\n"
     ]
    },
    {
     "name": "stderr",
     "output_type": "stream",
     "text": [
      "/home/lucas/miniforge3/envs/torch/lib/python3.13/site-packages/pymatgen/io/cif.py:1290: UserWarning: Issues encountered while parsing CIF: Skipping relative stoichiometry check because CIF does not contain formula keys.\n",
      "  warnings.warn(\"Issues encountered while parsing CIF: \" + \"\\n\".join(self.warnings))\n"
     ]
    }
   ],
   "source": [
    "structure = Structure.from_file('structures/IRMOF-1.cif')\n",
    "print('formula:        ', structure.formula)\n",
    "print('num_sites:      ', structure.num_sites)\n",
    "print('lattice_lengths:', structure.lattice.lengths)"
   ]
  },
  {
   "cell_type": "code",
   "execution_count": 4,
   "metadata": {},
   "outputs": [
    {
     "data": {
      "text/plain": [
       "array([0.403625, 0.403625, 0.403625])"
      ]
     },
     "execution_count": 4,
     "metadata": {},
     "output_type": "execute_result"
    }
   ],
   "source": [
    "T = 125.0\n",
    "system_size = np.array([l for l in structure.lattice.lengths])\n",
    "points = np.array([64, 64, 64])\n",
    "dft = dft_core(parameters=parameters, temperature=T, system_size=system_size, angles=None, points=points, device=device)\n",
    "dft.cell_size"
   ]
  },
  {
   "cell_type": "code",
   "execution_count": 5,
   "metadata": {},
   "outputs": [],
   "source": [
    "forcefield = pd.DataFrame()\n",
    "forcefield['type'] = ['C','H','O','Zn']\n",
    "forcefield['sigma'] = np.array([3.47299, 2.84642, 3.03315, 2.4615])\n",
    "forcefield['epsilon'] = np.array([47.8562, 7.64893, 48.1581, 62.3992])\n",
    "\n",
    "def lj_potential(r,sigma,epsilon):\n",
    "    return 4.0*epsilon*((sigma/r)**12-(sigma/r)**6) \n",
    "\n",
    "rc = 12.0\n",
    "\n",
    "Vext = torch.zeros_like(dft.X)\n",
    "U = torch.zeros_like(dft.X)\n",
    "for k, site in enumerate(structure):\n",
    "    sigmas = float(forcefield['sigma'][forcefield['type']==site.species_string].values[0])\n",
    "    epsilons = float(forcefield['epsilon'][forcefield['type']==site.species_string].values[0])\n",
    "    sigmasf = 0.5*(sigma+sigmas) \n",
    "    epsilonsf = np.sqrt(epsilon*epsilons)\n",
    "    rx = dft.X-structure.cart_coords[k,0] \n",
    "    ry = dft.Y-structure.cart_coords[k,1] \n",
    "    rz = dft.Z-structure.cart_coords[k,2] \n",
    "    rx -= system_size[0]*(rx/system_size[0]).round()\n",
    "    ry -= system_size[1]*(ry/system_size[1]).round()\n",
    "    rz -= system_size[2]*(rz/system_size[2]).round()\n",
    "    r = torch.sqrt(rx**2+ry**2+rz**2)\n",
    "    U = lj_potential(r,sigmasf,epsilonsf)\n",
    "    U[r==0] = np.inf\n",
    "    U[r>rc] = 0.0\n",
    "    Vext += U"
   ]
  },
  {
   "cell_type": "code",
   "execution_count": 6,
   "metadata": {},
   "outputs": [
    {
     "data": {
      "text/plain": [
       "Text(0, 0.5, '$y$ (\\\\AA{})')"
      ]
     },
     "execution_count": 6,
     "metadata": {},
     "output_type": "execute_result"
    },
    {
     "data": {
      "image/png": "[encoded data removed]",
      "text/plain": [
       "<Figure size 640x480 with 2 Axes>"
      ]
     },
     "metadata": {},
     "output_type": "display_data"
    }
   ],
   "source": [
    "plt.rcParams.update({'text.usetex':True, \n",
    "'font.family':'serif', \n",
    "'font.size':18, \n",
    "# 'axes.linewidth':1.1, \n",
    "'lines.linewidth':1.6,\n",
    "'legend.fontsize': 18,\n",
    "'legend.frameon':False\n",
    "#'figure.figsize':(7.9, 6.1)\n",
    "})\n",
    "\n",
    "\n",
    "plt.figure()\n",
    "c=plt.pcolormesh(dft.X[:,:,points[0]//2].cpu(),dft.Y[:,:,points[1]//2].cpu(),Vext[:,:,points[2]//2].cpu()/T,vmax=50.0,cmap='jet')\n",
    "plt.colorbar(label=r'$V_{\\mathrm{ext}}/k_B T$')\n",
    "plt.xlabel(r'$x$ (\\AA{})')\n",
    "plt.ylabel(r'$y$ (\\AA{})')"
   ]
  },
  {
   "cell_type": "code",
   "execution_count": 7,
   "metadata": {},
   "outputs": [],
   "source": [
    "# P0 = 0.013801e6\n",
    "P0 = 0.26876e6\n",
    "P = torch.hstack((torch.arange(1e0,1e1,1e0),torch.arange(1e1,1e2,1e1), torch.arange(1e2,1e3,1e2), \n",
    "                  torch.arange(1e3,1e4,1e3),torch.arange(1e4,1e5,1e4), torch.arange(1e5,2e5,1e5)))\n",
    "bulk_density = torch.empty_like(P)\n",
    "\n",
    "eos = lj_eos(parameters, T)\n",
    "bulk_density[0] = eos.density(P[0],'vap')\n",
    "for i in range(1,len(P)):\n",
    "    bulk_density[i] = eos.density(P[i],bulk_density[i-1])"
   ]
  },
  {
   "cell_type": "code",
   "execution_count": null,
   "metadata": {},
   "outputs": [
    {
     "name": "stdout",
     "output_type": "stream",
     "text": [
      "90 9.834312305145026e-09 1e-05 0.010618195887473751\n",
      "146 2.235637459396129e-09 2e-05 0.021241563462357775\n",
      "146 1.5072795114770092e-09 3.0000000000000004e-05 0.031870106195482854\n",
      "146 1.2172823064664307e-09 4e-05 0.04250382744334671\n",
      "146 1.063270034554137e-09 5e-05 0.05314273057481886\n",
      "146 9.693566224504319e-10 6.000000000000001e-05 0.0637868189648805\n",
      "146 9.072335503874512e-10 7.000000000000001e-05 0.07443609599297611\n",
      "146 8.638904229150123e-10 8e-05 0.08509056504261527\n",
      "146 8.325169669520953e-10 9e-05 0.09575022950149664\n",
      "146 8.091850203551159e-10 0.0001 0.10641509276127019\n",
      "172 6.916626058426999e-09 0.0002 0.213350406553786\n",
      "146 8.882554113549036e-09 0.00030000000000000003 0.32080936772367263\n",
      "146 8.212303545341303e-09 0.0004 0.4287954235113167\n",
      "146 7.618320641794959e-09 0.0005 0.5373120757641879\n",
      "128 9.812199257910262e-09 0.0006000000000000001 0.6463628526543167\n",
      "142 9.811481957769587e-09 0.0007000000000000001 0.7559513485747532\n",
      "144 8.671077749655477e-09 0.0008 0.8660811727684701\n",
      "145 6.297170232200098e-09 0.0009000000000000001 0.9767559809149943\n",
      "146 6.6484480831205085e-09 0.001 1.0879794594594208\n",
      "146 9.818084596678651e-09 0.002 2.2312303564041853\n",
      "173 3.821192285032772e-09 0.003 3.4336679860637664\n"
     ]
    }
   ],
   "source": [
    "dft.initial_condition(bulk_density[0],Vext,model='ideal')\n",
    "\n",
    "Nads = torch.zeros(len(P))\n",
    "for i in range(len(P)):\n",
    "    dft.equilibrium_density_profile(bulk_density[i],fmt='ASWB',solver='fire',\n",
    "                                    alpha0=0.2,dt=0.02,tol=1e-8,max_it=1001,logoutput=False)\n",
    "    Nads[i] = dft.total_molecules\n",
    "    print(dft.it,dft.error.numpy(),P[i].numpy()*1e-5,Nads[i].numpy())\n",
    "    if torch.isnan(dft.error) or dft.it > 1000: break\n",
    "    else:\n",
    "        torch.save(dft.rho.cpu(), f'rho.pt')\n",
    "        torch.save((P,Nads), f'adsorption.pt')"
   ]
  },
  {
   "cell_type": "code",
   "execution_count": null,
   "metadata": {},
   "outputs": [],
   "source": [
    "dft.rho = torch.load(f'rho.pt').to(device)\n",
    "P, Nads = torch.load(f'adsorption.pt')\n",
    "last = i"
   ]
  },
  {
   "cell_type": "code",
   "execution_count": null,
   "metadata": {},
   "outputs": [],
   "source": [
    "for i in range(last,len(P)):\n",
    "    dft.equilibrium_density_profile(bulk_density[i],fmt='ASWB',solver='fire',\n",
    "                                    alpha0=0.2,dt=0.02,tol=1e-8,max_it=2001,logoutput=True)\n",
    "    Nads[i] = dft.total_molecules\n",
    "    print(dft.it,dft.error.numpy(),P[i].numpy()/P0,Nads[i].numpy())\n",
    "    if torch.isnan(dft.error) or dft.it > 2000: break\n",
    "    else:\n",
    "        torch.save(dft.rho.cpu(), f'rho.pt')\n",
    "        torch.save((P,Nads), f'adsorption.pt')"
   ]
  },
  {
   "cell_type": "code",
   "execution_count": null,
   "metadata": {},
   "outputs": [],
   "source": [
    "import seaborn as sns\n",
    "\n",
    "colors = sns.color_palette(\"mako\")\n",
    "\n",
    "plt.rcParams.update({'text.usetex':True, \n",
    "'font.family':'serif',  \n",
    "#'figure.figsize':(7.9, 6.1)\n",
    "})\n",
    "\n",
    "plt.plot(1e-5*P, Nads, '-', color=colors[3], linewidth=2.0, label='cDFT')\n",
    "plt.xlabel(r'$P$ (bar)', fontsize=18)\n",
    "plt.ylabel(r'$N$ (molecules/u.c.)', fontsize=18)\n",
    "# plt.xlim([0.0,100.])\n",
    "# plt.ylim([None,0.004])\n",
    "plt.minorticks_on()\n",
    "plt.tick_params(direction='in',right=True, top=True)\n",
    "plt.tick_params(labelsize=18)\n",
    "plt.tick_params(labelbottom=True, labeltop=False, labelright=False, labelleft=True)\n",
    "plt.tick_params(direction='in',which='minor', length=4, bottom=True, top=True, left=True, right=True)\n",
    "plt.tick_params(direction='in',which='major', length=8, bottom=True, top=True, left=True, right=True)\n",
    "plt.legend(fontsize=16, frameon=True, edgecolor='k')\n",
    "# plt.savefig('figures/isotherm_methane.pdf', bbox_inches='tight')"
   ]
  },
  {
   "cell_type": "code",
   "execution_count": null,
   "metadata": {},
   "outputs": [],
   "source": [
    "plt.figure()\n",
    "c=plt.pcolormesh(dft.X[:,:,points[0]//2].cpu(),dft.Y[:,:,points[1]//2].cpu(),dft.rho[:,:,points[2]//2].cpu()/dft.rhob.cpu(),cmap='jet',shading='gouraud')\n",
    "plt.colorbar(c, label=r'$\\rho(x,y)/ \\rho_b$')\n",
    "plt.xlabel(r'$x$ (\\AA{})')\n",
    "plt.ylabel(r'$y$ (\\AA{})')"
   ]
  }
 ],
 "metadata": {
  "kernelspec": {
   "display_name": "torch",
   "language": "python",
   "name": "python3"
  },
  "language_info": {
   "codemirror_mode": {
    "name": "ipython",
    "version": 3
   },
   "file_extension": ".py",
   "mimetype": "text/x-python",
   "name": "python",
   "nbconvert_exporter": "python",
   "pygments_lexer": "ipython3",
   "version": "3.13.5"
  },
  "orig_nbformat": 4
 },
 "nbformat": 4,
 "nbformat_minor": 2
}
