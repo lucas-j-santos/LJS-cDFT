{
 "cells": [
  {
   "cell_type": "code",
   "execution_count": null,
   "metadata": {},
   "outputs": [],
   "source": [
    "import torch \n",
    "import numpy as np\n",
    "import pandas as pd\n",
    "import matplotlib.pyplot as plt\n",
    "from pymatgen.core import Structure\n",
    "from cdft.dft3d_pcsaft import dft_core\n",
    "from cdft.pcsaft_eos import pcsaft\n",
    "\n",
    "device = torch.device('cuda')"
   ]
  },
  {
   "cell_type": "code",
   "execution_count": null,
   "metadata": {},
   "outputs": [],
   "source": [
    "m = torch.tensor([1.0], dtype=torch.float64)\n",
    "sigma = torch.tensor([3.7039], dtype=torch.float64)\n",
    "epsilon = torch.tensor([150.03], dtype=torch.float64)\n",
    "parameters = {'m':m, 'sigma':sigma, 'epsilon':epsilon}"
   ]
  },
  {
   "cell_type": "code",
   "execution_count": null,
   "metadata": {},
   "outputs": [],
   "source": [
    "structure = Structure.from_file('structures/IRMOF-1.cif')\n",
    "print('formula:        ', structure.formula)\n",
    "print('num_sites:      ', structure.num_sites)\n",
    "print('lattice_lengths:', structure.lattice.lengths)"
   ]
  },
  {
   "cell_type": "code",
   "execution_count": null,
   "metadata": {},
   "outputs": [],
   "source": [
    "T = 300.0\n",
    "system_size = np.array([l for l in structure.lattice.lengths])\n",
    "points = np.array([64, 64, 64])\n",
    "dft = dft_core(parameters, T, system_size, points, device)"
   ]
  },
  {
   "cell_type": "code",
   "execution_count": null,
   "metadata": {},
   "outputs": [],
   "source": [
    "forcefield = pd.DataFrame()\n",
    "forcefield['type'] = ['C','H','O','Zn']\n",
    "forcefield['sigma'] = np.array([3.47299, 2.84642, 3.03315, 4.04468])\n",
    "forcefield['epsilon'] = np.array([47.8562, 7.64893, 48.1581, 27.6771])\n",
    "\n",
    "def lj_potential(r,sigma,epsilon):\n",
    "    return 4.0*epsilon*((sigma/r)**12-(sigma/r)**6) \n",
    "\n",
    "rc = 12.9\n",
    "\n",
    "Vext = torch.zeros((dft.Nc, points[0], points[1], points[2]),device=device,dtype=torch.float64)\n",
    "U = torch.zeros_like(dft.X)\n",
    "for i in range(dft.Nc):\n",
    "    for k, site in enumerate(structure):\n",
    "        sigmasf = float(0.5*(sigma[i].numpy()+forcefield['sigma'][forcefield['type']==site.species_string]))\n",
    "        epsilonsf = float(np.sqrt(epsilon[i].numpy()*forcefield['epsilon'][forcefield['type']==site.species_string]))\n",
    "        rx = dft.X-structure.cart_coords[k,0] \n",
    "        ry = dft.Y-structure.cart_coords[k,1] \n",
    "        rz = dft.Z-structure.cart_coords[k,2] \n",
    "        rx -= system_size[0]*(rx/system_size[0]).round()\n",
    "        ry -= system_size[1]*(ry/system_size[1]).round()\n",
    "        rz -= system_size[2]*(rz/system_size[2]).round()\n",
    "        r = torch.sqrt(rx**2+ry**2+rz**2)\n",
    "        U = lj_potential(r,sigmasf,epsilonsf)\n",
    "        U[r==0] = np.inf\n",
    "        U[r>rc] = 0.0\n",
    "        Vext[i] += U"
   ]
  },
  {
   "cell_type": "code",
   "execution_count": null,
   "metadata": {},
   "outputs": [],
   "source": [
    "plt.rcParams.update({'text.usetex':True, \n",
    "'font.family':'serif', \n",
    "'font.size':18, \n",
    "# 'axes.linewidth':1.1, \n",
    "'lines.linewidth':1.6,\n",
    "'legend.fontsize': 18,\n",
    "'legend.frameon':False\n",
    "#'figure.figsize':(7.9, 6.1)\n",
    "})\n",
    "\n",
    "\n",
    "plt.figure()\n",
    "c=plt.pcolormesh(dft.X[:,:,points[0]//2].cpu(),dft.Y[:,:,points[1]//2].cpu(),Vext[0,:,:,points[2]//2].cpu()/T, vmax=50.0, cmap='jet')\n",
    "plt.colorbar(label=r'$V_{\\mathrm{ext}}/k_B T$')\n",
    "plt.xlabel(r'$x$ (\\AA{})')\n",
    "plt.ylabel(r'$y$ (\\AA{})')"
   ]
  },
  {
   "cell_type": "code",
   "execution_count": null,
   "metadata": {},
   "outputs": [],
   "source": [
    "P = torch.hstack((torch.arange(1e4,1e5,1e4,dtype=torch.float64), torch.arange(1e5,1e6,1e5,dtype=torch.float64), \n",
    "                  torch.range(1e6,1e7,1e6,dtype=torch.float64)))\n",
    "bulk_density = torch.empty_like(P)\n",
    "composition = torch.tensor([1.0],dtype=torch.float64)\n",
    "\n",
    "eos = pcsaft(parameters, T)\n",
    "bulk_density[0] = eos.density(P[0],composition,'vap')\n",
    "for i in range(1,len(P)):\n",
    "    bulk_density[i] = eos.density(P[i],composition,bulk_density[i-1])"
   ]
  },
  {
   "cell_type": "code",
   "execution_count": null,
   "metadata": {},
   "outputs": [],
   "source": [
    "dft.initial_condition(bulk_density[0],composition,Vext)"
   ]
  },
  {
   "cell_type": "code",
   "execution_count": null,
   "metadata": {},
   "outputs": [],
   "source": [
    "Nads = torch.empty((dft.Nc,len(P)),dtype=torch.float64)\n",
    "for i in range(len(P)):\n",
    "    dft.equilibrium_density_profile(bulk_density[i],composition,fmt='ASWB',solver='anderson',\n",
    "                                    anderson_mmax=10,anderson_damping=0.2,tol=1e-6,logoutput=False)\n",
    "    for j in range(dft.Nc):\n",
    "        Nads[j,i] = dft.total_molecules[j]\n",
    "    print(dft.it,dft.error.numpy(),1e-5*P[i].numpy(),Nads[:,i].numpy())\n",
    "    if np.isnan(dft.error.numpy()): break"
   ]
  },
  {
   "cell_type": "code",
   "execution_count": null,
   "metadata": {},
   "outputs": [],
   "source": [
    "# data = pd.read_pickle(f'data/methane_IRMOF-1_{T:.2f}K.pkl')\n",
    "feos = np.load('data/feos.npy')\n",
    "\n",
    "import seaborn as sns\n",
    "\n",
    "colors = sns.color_palette(\"mako\")\n",
    "\n",
    "plt.rcParams.update({'text.usetex':True, \n",
    "'font.family':'serif',  \n",
    "#'figure.figsize':(7.9, 6.1)\n",
    "})\n",
    "\n",
    "plt.plot(P*1e-5, Nads[0], '-', color=colors[3], linewidth=2.0, label='LJS-cDFT')\n",
    "plt.plot(feos[0], feos[1], '--', color=colors[3], linewidth=2.0, label='FeOs')\n",
    "# plt.plot(1e-5*data['Pressure (Pa)'], data['Absolute adsorption (molecules/uc)'], 'o', \n",
    "#          color=colors[3],markersize=7,markeredgewidth=1.5,mfc='none',label='GCMC')\n",
    "plt.xlabel(r'$P$ (bar)', fontsize=18)\n",
    "plt.ylabel(r'$N$ (molecules/u.c.)', fontsize=18)\n",
    "# plt.xlim([0.0,125])\n",
    "# plt.ylim([None,0.004])\n",
    "plt.minorticks_on()\n",
    "plt.tick_params(direction='in',right=True, top=True)\n",
    "plt.tick_params(labelsize=18)\n",
    "plt.tick_params(labelbottom=True, labeltop=False, labelright=False, labelleft=True)\n",
    "plt.tick_params(direction='in',which='minor', length=4, bottom=True, top=True, left=True, right=True)\n",
    "plt.tick_params(direction='in',which='major', length=8, bottom=True, top=True, left=True, right=True)\n",
    "plt.legend(fontsize=16, frameon=True, edgecolor='k')\n",
    "# plt.savefig('figures/isotherm_methane.pdf', bbox_inches='tight')"
   ]
  }
 ],
 "metadata": {
  "kernelspec": {
   "display_name": "torch",
   "language": "python",
   "name": "python3"
  },
  "language_info": {
   "codemirror_mode": {
    "name": "ipython",
    "version": 3
   },
   "file_extension": ".py",
   "mimetype": "text/x-python",
   "name": "python",
   "nbconvert_exporter": "python",
   "pygments_lexer": "ipython3",
   "version": "3.12.9"
  },
  "orig_nbformat": 4
 },
 "nbformat": 4,
 "nbformat_minor": 2
}
