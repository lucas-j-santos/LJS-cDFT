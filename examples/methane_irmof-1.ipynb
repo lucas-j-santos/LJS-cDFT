{
 "cells": [
  {
   "cell_type": "code",
   "execution_count": 1,
   "metadata": {},
   "outputs": [],
   "source": [
    "import torch \n",
    "import numpy as np\n",
    "import pandas as pd\n",
    "import matplotlib.pyplot as plt\n",
    "from pymatgen.core import Structure\n",
    "from cdft.dft3d import dft_core\n",
    "from cdft.lj_eos import lj_eos\n",
    "\n",
    "torch.set_default_dtype(torch.float64)\n",
    "device = torch.device('cuda')"
   ]
  },
  {
   "cell_type": "code",
   "execution_count": 2,
   "metadata": {},
   "outputs": [],
   "source": [
    "sigma = 3.73\n",
    "epsilon = 148.0\n",
    "parameters = {'sigma':sigma, 'epsilon':epsilon}"
   ]
  },
  {
   "cell_type": "code",
   "execution_count": 3,
   "metadata": {},
   "outputs": [
    {
     "name": "stdout",
     "output_type": "stream",
     "text": [
      "formula:         Zn32 H96 C192 O104\n",
      "num_sites:       424\n",
      "lattice_lengths: (25.832, 25.832, 25.832)\n"
     ]
    },
    {
     "name": "stderr",
     "output_type": "stream",
     "text": [
      "/home/lucas/miniforge3/envs/torch/lib/python3.13/site-packages/pymatgen/io/cif.py:1290: UserWarning: Issues encountered while parsing CIF: Skipping relative stoichiometry check because CIF does not contain formula keys.\n",
      "  warnings.warn(\"Issues encountered while parsing CIF: \" + \"\\n\".join(self.warnings))\n"
     ]
    }
   ],
   "source": [
    "structure = Structure.from_file('structures/IRMOF-1.cif')\n",
    "print('formula:        ', structure.formula)\n",
    "print('num_sites:      ', structure.num_sites)\n",
    "print('lattice_lengths:', structure.lattice.lengths)"
   ]
  },
  {
   "cell_type": "code",
   "execution_count": 4,
   "metadata": {},
   "outputs": [
    {
     "data": {
      "text/plain": [
       "array([0.403625, 0.403625, 0.403625])"
      ]
     },
     "execution_count": 4,
     "metadata": {},
     "output_type": "execute_result"
    }
   ],
   "source": [
    "T = 298.0\n",
    "system_size = np.array([l for l in structure.lattice.lengths])\n",
    "points = np.array([64, 64, 64])\n",
    "dft = dft_core(parameters=parameters, temperature=T, system_size=system_size, angles=None, points=points, device=device)\n",
    "dft.cell_size"
   ]
  },
  {
   "cell_type": "code",
   "execution_count": 5,
   "metadata": {},
   "outputs": [],
   "source": [
    "forcefield = pd.DataFrame()\n",
    "forcefield['type'] = ['C','H','O','Zn']\n",
    "forcefield['sigma'] = np.array([3.47299, 2.84642, 3.03315, 2.4615])\n",
    "forcefield['epsilon'] = np.array([47.8562, 7.64893, 48.1581, 62.3992])\n",
    "\n",
    "def lj_potential(r,sigma,epsilon):\n",
    "    return 4.0*epsilon*((sigma/r)**12-(sigma/r)**6) \n",
    "\n",
    "rc = 12.9\n",
    "\n",
    "Vext = torch.zeros_like(dft.X)\n",
    "U = torch.zeros_like(dft.X)\n",
    "for k, site in enumerate(structure):\n",
    "    sigmas = float(forcefield['sigma'][forcefield['type']==site.species_string].values[0])\n",
    "    epsilons = float(forcefield['epsilon'][forcefield['type']==site.species_string].values[0])\n",
    "    sigmasf = 0.5*(sigma+sigmas) \n",
    "    epsilonsf = np.sqrt(epsilon*epsilons)\n",
    "    rx = dft.X-structure.cart_coords[k,0] \n",
    "    ry = dft.Y-structure.cart_coords[k,1] \n",
    "    rz = dft.Z-structure.cart_coords[k,2] \n",
    "    rx -= system_size[0]*(rx/system_size[0]).round()\n",
    "    ry -= system_size[1]*(ry/system_size[1]).round()\n",
    "    rz -= system_size[2]*(rz/system_size[2]).round()\n",
    "    r = torch.sqrt(rx**2+ry**2+rz**2)\n",
    "    U = lj_potential(r,sigmasf,epsilonsf)\n",
    "    U[r==0] = np.inf\n",
    "    U[r>rc] = 0.0\n",
    "    Vext += U"
   ]
  },
  {
   "cell_type": "code",
   "execution_count": 6,
   "metadata": {},
   "outputs": [
    {
     "data": {
      "text/plain": [
       "Text(0, 0.5, '$y$ (\\\\AA{})')"
      ]
     },
     "execution_count": 6,
     "metadata": {},
     "output_type": "execute_result"
    },
    {
     "data": {
      "image/png": "[encoded data removed]",
      "text/plain": [
       "<Figure size 640x480 with 2 Axes>"
      ]
     },
     "metadata": {},
     "output_type": "display_data"
    }
   ],
   "source": [
    "plt.rcParams.update({'text.usetex':True, \n",
    "'font.family':'serif', \n",
    "'font.size':18, \n",
    "# 'axes.linewidth':1.1, \n",
    "'lines.linewidth':1.6,\n",
    "'legend.fontsize': 18,\n",
    "'legend.frameon':False\n",
    "#'figure.figsize':(7.9, 6.1)\n",
    "})\n",
    "\n",
    "\n",
    "plt.figure()\n",
    "c=plt.pcolormesh(dft.X[:,:,points[0]//2].cpu(),dft.Y[:,:,points[1]//2].cpu(),Vext[:,:,points[2]//2].cpu()/T,vmax=50.0,cmap='jet')\n",
    "plt.colorbar(label=r'$V_{\\mathrm{ext}}/k_B T$')\n",
    "plt.xlabel(r'$x$ (\\AA{})')\n",
    "plt.ylabel(r'$y$ (\\AA{})')"
   ]
  },
  {
   "cell_type": "code",
   "execution_count": 7,
   "metadata": {},
   "outputs": [
    {
     "name": "stderr",
     "output_type": "stream",
     "text": [
      "/tmp/ipykernel_38501/730982072.py:1: UserWarning: torch.range is deprecated and will be removed in a future release because its behavior is inconsistent with Python's range builtin. Instead, use torch.arange, which produces values in [start, end).\n",
      "  P = torch.hstack((torch.arange(1e4,1e5,1e4), torch.arange(1e5,1e6,1e5), torch.range(1e6,1e7,1e6)))\n"
     ]
    }
   ],
   "source": [
    "P = torch.hstack((torch.arange(1e4,1e5,1e4), torch.arange(1e5,1e6,1e5), torch.range(1e6,1e7,1e6)))\n",
    "bulk_density = torch.empty_like(P)\n",
    "\n",
    "eos = lj_eos(parameters, T)\n",
    "bulk_density[0] = eos.density(P[0],'vap')\n",
    "for i in range(1,len(P)):\n",
    "    bulk_density[i] = eos.density(P[i],bulk_density[i-1])"
   ]
  },
  {
   "cell_type": "code",
   "execution_count": null,
   "metadata": {},
   "outputs": [],
   "source": [
    "dft.initial_condition(bulk_density[0],Vext)\n",
    "\n",
    "Nads = torch.empty(len(P),dtype=torch.float64)\n",
    "for i in range(len(P)):\n",
    "    dft.equilibrium_density_profile(bulk_density[i],fmt='ASWB',solver='anderson',\n",
    "                                    anderson_mmax=10,anderson_damping=0.2,tol=1e-6,logoutput=False)\n",
    "    Nads[i] = dft.total_molecules\n",
    "    print(dft.it,dft.error.numpy(),1e-5*P[i].numpy(),Nads[i].numpy())\n",
    "    if np.isnan(dft.error.numpy()): break"
   ]
  },
  {
   "cell_type": "code",
   "execution_count": null,
   "metadata": {},
   "outputs": [],
   "source": [
    "data = pd.read_pickle(f'data/methane_IRMOF-1_{T:.2f}K.pkl')\n",
    "\n",
    "import seaborn as sns\n",
    "\n",
    "colors = sns.color_palette(\"mako\")\n",
    "\n",
    "plt.rcParams.update({'text.usetex':True, \n",
    "'font.family':'serif',  \n",
    "#'figure.figsize':(7.9, 6.1)\n",
    "})\n",
    "\n",
    "plt.plot(P*1e-5, Nads, '-', color=colors[3], linewidth=2.0, label='cDFT')\n",
    "plt.plot(1e-5*data['Pressure (Pa)'], data['Absolute adsorption (molecules/uc)'], 'o', \n",
    "         color=colors[3],markersize=7,markeredgewidth=1.5,mfc='none',label='GCMC')\n",
    "plt.xlabel(r'$P$ (bar)', fontsize=18)\n",
    "plt.ylabel(r'$N$ (molecules/u.c.)', fontsize=18)\n",
    "# plt.xlim([0.0,125])\n",
    "# plt.ylim([None,0.004])\n",
    "plt.minorticks_on()\n",
    "plt.tick_params(direction='in',right=True, top=True)\n",
    "plt.tick_params(labelsize=18)\n",
    "plt.tick_params(labelbottom=True, labeltop=False, labelright=False, labelleft=True)\n",
    "plt.tick_params(direction='in',which='minor', length=4, bottom=True, top=True, left=True, right=True)\n",
    "plt.tick_params(direction='in',which='major', length=8, bottom=True, top=True, left=True, right=True)\n",
    "plt.legend(fontsize=16, frameon=True, edgecolor='k')\n",
    "# plt.savefig('figures/isotherm_methane.pdf', bbox_inches='tight')"
   ]
  },
  {
   "cell_type": "code",
   "execution_count": null,
   "metadata": {},
   "outputs": [],
   "source": [
    "plt.figure()\n",
    "c=plt.pcolormesh(dft.X[:,:,points[0]//2].cpu(),dft.Y[:,:,points[1]//2].cpu(),dft.rho[:,:,points[2]//2].cpu()/dft.rhob.cpu(),cmap='jet',shading='gouraud')\n",
    "plt.colorbar(c, label=r'$\\rho(x,y)/ \\rho_b$')\n",
    "plt.xlabel(r'$x$ (\\AA{})')\n",
    "plt.ylabel(r'$y$ (\\AA{})')"
   ]
  }
 ],
 "metadata": {
  "kernelspec": {
   "display_name": "torch",
   "language": "python",
   "name": "python3"
  },
  "language_info": {
   "codemirror_mode": {
    "name": "ipython",
    "version": 3
   },
   "file_extension": ".py",
   "mimetype": "text/x-python",
   "name": "python",
   "nbconvert_exporter": "python",
   "pygments_lexer": "ipython3",
   "version": "3.13.5"
  },
  "orig_nbformat": 4
 },
 "nbformat": 4,
 "nbformat_minor": 2
}
