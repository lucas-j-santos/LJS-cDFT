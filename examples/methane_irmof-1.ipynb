{
 "cells": [
  {
   "cell_type": "code",
   "execution_count": null,
   "metadata": {},
   "outputs": [],
   "source": [
    "import torch \n",
    "import numpy as np\n",
    "import pandas as pd\n",
    "import matplotlib.pyplot as plt\n",
    "from pymatgen.core import Structure\n",
    "from cdft.dft3d import dft_core\n",
    "from cdft.pcsaft_eos import pcsaft\n",
    "from numba import vectorize\n",
    "\n",
    "device = torch.device('cuda')"
   ]
  },
  {
   "cell_type": "code",
   "execution_count": null,
   "metadata": {},
   "outputs": [],
   "source": [
    "m = np.array([[1.0]])\n",
    "sigma = np.array([[3.7039]])\n",
    "epsilon = np.array([150.03])\n",
    "parameters = {'m':m, 'sigma':sigma, 'epsilon':epsilon}"
   ]
  },
  {
   "cell_type": "code",
   "execution_count": null,
   "metadata": {},
   "outputs": [],
   "source": [
    "structure = Structure.from_file('structures/IRMOF-1.cif')\n",
    "print('formula:        ', structure.formula)\n",
    "print('num_sites:      ', structure.num_sites)\n",
    "print('lattice_lengths:', structure.lattice.lengths)"
   ]
  },
  {
   "cell_type": "code",
   "execution_count": null,
   "metadata": {},
   "outputs": [],
   "source": [
    "T = 300.0\n",
    "system_size = np.array([l for l in structure.lattice.lengths])\n",
    "points = np.array([64, 64, 64])\n",
    "dft = dft_core(parameters, T, system_size, points, device)"
   ]
  },
  {
   "cell_type": "code",
   "execution_count": null,
   "metadata": {},
   "outputs": [],
   "source": [
    "forcefield = pd.DataFrame()\n",
    "forcefield['type'] = ['Zn','H','C','O']\n",
    "forcefield['sigma'] = np.array([4.045, 2.846, 3.47299, 3.033])\n",
    "forcefield['epsilon'] = np.array([27.677, 7.6489, 47.8562, 48.1581])\n",
    "forcefield['mass'] = np.array([65.38, 1.00784, 12.0107, 15.999])\n",
    "\n",
    "X,Y,Z = np.meshgrid(dft.x, dft.y, dft.z, indexing='ij')\n",
    "\n",
    "@vectorize\n",
    "def lj_potential(r,sigma,epsilon):\n",
    "    if r == 0:\n",
    "        V = np.inf\n",
    "    elif r > 12.0:\n",
    "        V = 0.0\n",
    "    else:\n",
    "        V = 4.0*epsilon*((sigma/r)**12-(sigma/r)**6) \n",
    "    return V \n",
    "\n",
    "Vext = np.zeros((dft.Nc, points[0], points[1], points[2]), dtype=np.float64)\n",
    "for i in range(dft.Nc):\n",
    "    for k, site in enumerate(structure):\n",
    "        sigmasf = float(0.5*(sigma[i].numpy()+forcefield['sigma'][forcefield['type']==site.species_string]))\n",
    "        epsilonsf = float(np.sqrt(epsilon[i].numpy()*forcefield['epsilon'][forcefield['type']==site.species_string]))\n",
    "        rx = X-structure.cart_coords[k,0] \n",
    "        ry = Y-structure.cart_coords[k,1] \n",
    "        rz = Z-structure.cart_coords[k,2] \n",
    "        rx -= system_size[0]*(rx/system_size[0]).round()\n",
    "        ry -= system_size[1]*(ry/system_size[1]).round()\n",
    "        rz -= system_size[2]*(rz/system_size[2]).round()\n",
    "        r = np.sqrt(rx**2+ry**2+rz**2)\n",
    "        Vext[i] += m[i].numpy()*lj_potential(r,sigmasf,epsilonsf)"
   ]
  },
  {
   "cell_type": "code",
   "execution_count": null,
   "metadata": {},
   "outputs": [],
   "source": [
    "plt.rcParams.update({'text.usetex':True, \n",
    "'font.family':'serif', \n",
    "'font.size':18, \n",
    "# 'axes.linewidth':1.1, \n",
    "'lines.linewidth':1.6,\n",
    "'legend.fontsize': 18,\n",
    "'legend.frameon':False\n",
    "#'figure.figsize':(7.9, 6.1)\n",
    "})\n",
    "\n",
    "\n",
    "plt.figure()\n",
    "c=plt.pcolormesh(X[:,:,points[0]//2],Y[:,:,points[1]//2],Vext[0,:,:,points[2]//2]/T, vmax=50.0, cmap='jet')\n",
    "plt.colorbar(label=r'$V_{\\mathrm{ext}}/k_B T$')\n",
    "plt.xlabel(r'$x$ (\\AA{})')\n",
    "plt.ylabel(r'$y$ (\\AA{})')"
   ]
  },
  {
   "cell_type": "code",
   "execution_count": null,
   "metadata": {},
   "outputs": [],
   "source": [
    "P = torch.hstack((torch.arange(1e5,1e6,1e5,dtype=torch.float64), torch.range(1e6,1e7,1e6,dtype=torch.float64)))\n",
    "bulk_density = torch.empty_like(P)\n",
    "composition = torch.tensor([1.0],dtype=torch.float64)\n",
    "\n",
    "eos = pcsaft(parameters, T)\n",
    "bulk_density[0] = eos.density(P[0],composition,'vap')\n",
    "for i in range(1,len(P)):\n",
    "    bulk_density[i] = eos.density(P[i],composition,bulk_density[i-1])"
   ]
  },
  {
   "cell_type": "code",
   "execution_count": null,
   "metadata": {},
   "outputs": [],
   "source": [
    "dft.initial_condition(bulk_density[0],composition,Vext)"
   ]
  },
  {
   "cell_type": "code",
   "execution_count": null,
   "metadata": {},
   "outputs": [],
   "source": [
    "Nads = torch.empty((dft.Nc,len(P)),dtype=torch.float64)\n",
    "for i in range(len(P)):\n",
    "    dft.equilibrium_density_profile(bulk_density[i],composition,fmt='ASWB',\n",
    "                                    solver='fire',alpha0=0.2,dt=0.1,tol=1e-6,logoutput=False)\n",
    "    for j in range(dft.Nc):\n",
    "        Nads[j,i] = dft.total_molecules[j]\n",
    "    print(dft.it,dft.error.numpy(),1e-5*P[i].numpy(),Nads[:,i].numpy())\n",
    "    if np.isnan(dft.error.numpy()): break"
   ]
  },
  {
   "cell_type": "code",
   "execution_count": null,
   "metadata": {},
   "outputs": [],
   "source": [
    "data = pd.read_pickle('data/isotherm_methane.pkl')\n",
    "\n",
    "import seaborn as sns\n",
    "\n",
    "colors = sns.color_palette(\"mako\")\n",
    "\n",
    "plt.rcParams.update({'text.usetex':True, \n",
    "'font.family':'serif',  \n",
    "#'figure.figsize':(7.9, 6.1)\n",
    "})\n",
    "\n",
    "plt.plot(P*1e-5, Nads[0], '-', color=colors[3], linewidth=2.0, label='cDFT')\n",
    "plt.plot(data['pressure'], data['methane'], 'o', color=colors[3],markersize=7,markeredgewidth=1.5,mfc='none',label='GCMC')\n",
    "plt.xlabel(r'$P$ (bar)', fontsize=18)\n",
    "plt.ylabel(r'$N$ (molecules/u.c.)', fontsize=18)\n",
    "# plt.xlim([0.0,125])\n",
    "# plt.ylim([None,0.004])\n",
    "plt.minorticks_on()\n",
    "plt.tick_params(direction='in',right=True, top=True)\n",
    "plt.tick_params(labelsize=18)\n",
    "plt.tick_params(labelbottom=True, labeltop=False, labelright=False, labelleft=True)\n",
    "plt.tick_params(direction='in',which='minor', length=4, bottom=True, top=True, left=True, right=True)\n",
    "plt.tick_params(direction='in',which='major', length=8, bottom=True, top=True, left=True, right=True)\n",
    "plt.legend(fontsize=16, frameon=True, edgecolor='k')\n",
    "# plt.savefig('figures/isotherm_methane.pdf', bbox_inches='tight')"
   ]
  }
 ],
 "metadata": {
  "kernelspec": {
   "display_name": "torch",
   "language": "python",
   "name": "python3"
  },
  "language_info": {
   "codemirror_mode": {
    "name": "ipython",
    "version": 3
   },
   "file_extension": ".py",
   "mimetype": "text/x-python",
   "name": "python",
   "nbconvert_exporter": "python",
   "pygments_lexer": "ipython3",
   "version": "3.11.6"
  },
  "orig_nbformat": 4
 },
 "nbformat": 4,
 "nbformat_minor": 2
}
